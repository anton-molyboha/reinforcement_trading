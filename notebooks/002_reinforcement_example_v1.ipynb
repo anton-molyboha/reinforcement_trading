{
 "cells": [
  {
   "cell_type": "code",
   "execution_count": 1,
   "metadata": {
    "collapsed": true
   },
   "outputs": [],
   "source": [
    "import os\n",
    "import os.path\n",
    "import sys\n",
    "import math"
   ]
  },
  {
   "cell_type": "code",
   "execution_count": 2,
   "metadata": {
    "collapsed": true
   },
   "outputs": [],
   "source": [
    "import numpy as np\n",
    "import pandas as pd\n",
    "%matplotlib inline\n",
    "import matplotlib.pyplot as plt"
   ]
  },
  {
   "cell_type": "code",
   "execution_count": 3,
   "metadata": {},
   "outputs": [
    {
     "name": "stderr",
     "output_type": "stream",
     "text": [
      "Using TensorFlow backend.\n"
     ]
    }
   ],
   "source": [
    "import keras\n",
    "from keras import layers"
   ]
  },
  {
   "cell_type": "code",
   "execution_count": 4,
   "metadata": {
    "collapsed": true
   },
   "outputs": [],
   "source": [
    "sys.path.append(os.path.abspath('../dependencies/BristolStockExchange'))\n",
    "sys.path.append(os.path.abspath('..'))"
   ]
  },
  {
   "cell_type": "markdown",
   "metadata": {},
   "source": [
    "# System setup"
   ]
  },
  {
   "cell_type": "markdown",
   "metadata": {},
   "source": [
    "Model characteristics:\n",
    "* Continuous inputs, discrete actions\n",
    "* Discrete events in continuous time"
   ]
  },
  {
   "cell_type": "markdown",
   "metadata": {},
   "source": [
    "### Flappy Bird"
   ]
  },
  {
   "cell_type": "markdown",
   "metadata": {},
   "source": [
    "* State: (hight, lower border of the hole, upper border of the hole, time to hole)\n",
    "* Actions: {fly up, keep falling}\n",
    "* Reward: time survived"
   ]
  },
  {
   "cell_type": "code",
   "execution_count": 5,
   "metadata": {
    "collapsed": true
   },
   "outputs": [],
   "source": [
    "class Game(object):\n",
    "    def __init__(self):\n",
    "        self.maxheight = 100\n",
    "        self.mean_hole_height = 0.1 * self.maxheight\n",
    "        self.min_time_to_hole = 20\n",
    "        self.fall_rate = 5\n",
    "        self.climb_rate = 3\n",
    "        self.mean_time_to_hole = 2 * self.min_time_to_hole\n",
    "        self.alive = True\n",
    "        self.height = np.random.rand() * self.maxheight\n",
    "        self._next_hole()\n",
    "    \n",
    "    def _next_hole(self):\n",
    "        self.time_to_hole = self.min_time_to_hole + \\\n",
    "            (self.mean_time_to_hole - self.min_time_to_hole) * np.random.exponential()\n",
    "        hole_height = self.mean_hole_height * np.random.exponential()\n",
    "        hole_height /= (1 + hole_height / self.maxheight)\n",
    "        self.hole_bottom = np.random.rand() * (self.maxheight - hole_height)\n",
    "        self.hole_top = self.hole_bottom + hole_height\n",
    "    \n",
    "    def get_state(self):\n",
    "        return np.array([self.height, self.hole_bottom, self.hole_top, self.time_to_hole])\n",
    "    \n",
    "    def time_step(self, action):\n",
    "        if not self.alive:\n",
    "            return 0\n",
    "        dt = np.random.exponential()\n",
    "        if dt > self.time_to_hole:\n",
    "            dt = self.time_to_hole\n",
    "        assert action == 1 or action == 0\n",
    "        if action == 1:\n",
    "            self.height += self.climb_rate * dt\n",
    "        else:\n",
    "            self.height -= self.fall_rate * dt\n",
    "        self.time_to_hole -= dt\n",
    "        if self.time_to_hole <= 0:\n",
    "            if self.height < self.hole_bottom or self.height > self.hole_top:\n",
    "                self.alive = False\n",
    "            else:\n",
    "                self._next_hole()\n",
    "        return dt"
   ]
  },
  {
   "cell_type": "code",
   "execution_count": 9,
   "metadata": {},
   "outputs": [
    {
     "name": "stdout",
     "output_type": "stream",
     "text": [
      "[ 33.28533237   1.37246065   3.92825484  23.66874501]\n",
      "0\n",
      "[ 26.28422534   1.37246065   3.92825484  22.2685236 ]\n",
      "0\n",
      "[ 24.6594706    1.37246065   3.92825484  21.94357265]\n",
      "0\n",
      "[ 16.50206843   1.37246065   3.92825484  20.31209222]\n",
      "0\n",
      "[ 13.86105878   1.37246065   3.92825484  19.78389029]\n",
      "0\n",
      "[ 13.44244887   1.37246065   3.92825484  19.70016831]\n",
      "0\n",
      "[ 13.19709416   1.37246065   3.92825484  19.65109736]\n",
      "0\n",
      "[-14.10443304   1.37246065   3.92825484  14.19079193]\n",
      "1\n",
      "[ -7.5734632    1.37246065   3.92825484  12.01380198]\n",
      "1\n",
      "[ -5.79847381   1.37246065   3.92825484  11.42213885]\n",
      "1\n",
      "[ 0.5641037   1.37246065  3.92825484  9.30127968]\n",
      "1\n",
      "[ 2.38805699  1.37246065  3.92825484  8.69329525]\n",
      "1\n",
      "[ 4.48328057  1.37246065  3.92825484  7.99488739]\n",
      "1\n",
      "[ 4.66011379  1.37246065  3.92825484  7.93594298]\n",
      "0\n",
      "[-0.53016573  1.37246065  3.92825484  6.89788708]\n",
      "1\n",
      "[ 0.63622974  1.37246065  3.92825484  6.50908859]\n",
      "1\n",
      "[ 6.5203922   1.37246065  3.92825484  4.5477011 ]\n",
      "0\n",
      "[-0.80050373  1.37246065  3.92825484  3.08352191]\n",
      "1\n",
      "[ 1.27044627  1.37246065  3.92825484  2.39320525]\n",
      "1\n",
      "[ 1.50423287  1.37246065  3.92825484  2.31527638]\n",
      "1\n",
      "[ 2.16676887  1.37246065  3.92825484  2.09443105]\n",
      "1\n",
      "[ 4.89813384  1.37246065  3.92825484  1.18397606]\n",
      "0\n",
      "[ 3.12162619  1.37246065  3.92825484  0.82867453]\n",
      "0\n",
      "[ 1.07378044  1.37246065  3.92825484  0.41910538]\n",
      "1\n",
      "[ 1.29695074  1.37246065  3.92825484  0.34471528]\n",
      "1\n",
      "[ 1.7639917   1.37246065  3.92825484  0.18903496]\n",
      "1\n",
      "[ 2.1145184   1.37246065  3.92825484  0.07219272]\n",
      "1\n",
      "[  2.33109657  91.97889761  96.69245998  59.71162444]\n",
      "1\n",
      "[  7.68790485  91.97889761  96.69245998  57.92602168]\n",
      "1\n",
      "[ 15.00958197  91.97889761  96.69245998  55.48546265]\n",
      "1\n",
      "[ 15.64635505  91.97889761  96.69245998  55.27320495]\n",
      "1\n",
      "[ 16.32152917  91.97889761  96.69245998  55.04814691]\n",
      "1\n",
      "[ 16.46976144  91.97889761  96.69245998  54.99873615]\n",
      "1\n",
      "[ 21.45972958  91.97889761  96.69245998  53.33541344]\n",
      "1\n",
      "[ 22.35083458  91.97889761  96.69245998  53.03837844]\n",
      "1\n",
      "[ 22.90942073  91.97889761  96.69245998  52.85218306]\n",
      "1\n",
      "[ 24.52549924  91.97889761  96.69245998  52.31349022]\n",
      "1\n",
      "[ 24.82681402  91.97889761  96.69245998  52.21305196]\n",
      "1\n",
      "[ 28.11411605  91.97889761  96.69245998  51.11728462]\n",
      "1\n",
      "[ 33.11783456  91.97889761  96.69245998  49.44937845]\n",
      "1\n",
      "[ 38.00154148  91.97889761  96.69245998  47.82147614]\n",
      "1\n",
      "[ 38.03996327  91.97889761  96.69245998  47.80866888]\n",
      "1\n",
      "[ 38.93493122  91.97889761  96.69245998  47.51034623]\n",
      "1\n",
      "[ 39.47871905  91.97889761  96.69245998  47.32908362]\n",
      "1\n",
      "[ 40.78220615  91.97889761  96.69245998  46.89458792]\n",
      "1\n",
      "[ 40.7956057   91.97889761  96.69245998  46.8901214 ]\n",
      "1\n",
      "[ 43.76992796  91.97889761  96.69245998  45.89868065]\n",
      "1\n",
      "[ 44.9300285   91.97889761  96.69245998  45.51198047]\n",
      "1\n",
      "[ 45.45812154  91.97889761  96.69245998  45.33594945]\n",
      "1\n",
      "[ 49.54095138  91.97889761  96.69245998  43.97500617]\n",
      "1\n",
      "[ 57.20886386  91.97889761  96.69245998  41.41903535]\n",
      "1\n",
      "[ 57.37386683  91.97889761  96.69245998  41.36403436]\n",
      "1\n",
      "[ 61.44204192  91.97889761  96.69245998  40.007976  ]\n",
      "1\n",
      "[ 63.33133289  91.97889761  96.69245998  39.37821234]\n",
      "1\n",
      "[ 64.09957572  91.97889761  96.69245998  39.1221314 ]\n",
      "1\n",
      "[ 70.90680664  91.97889761  96.69245998  36.85305442]\n",
      "1\n",
      "[ 71.32478887  91.97889761  96.69245998  36.71372701]\n",
      "1\n",
      "[ 72.40324715  91.97889761  96.69245998  36.35424092]\n",
      "1\n",
      "[ 76.00642562  91.97889761  96.69245998  35.15318143]\n",
      "1\n",
      "[ 78.79243844  91.97889761  96.69245998  34.22451049]\n",
      "1\n",
      "[ 80.7528239   91.97889761  96.69245998  33.57104867]\n",
      "1\n",
      "[ 83.61410647  91.97889761  96.69245998  32.61728781]\n",
      "1\n",
      "[ 84.96801867  91.97889761  96.69245998  32.16598374]\n",
      "1\n",
      "[ 94.43406442  91.97889761  96.69245998  29.01063516]\n",
      "0\n",
      "[ 89.73823924  91.97889761  96.69245998  28.07147012]\n",
      "1\n",
      "[ 93.58240979  91.97889761  96.69245998  26.79007994]\n",
      "1\n",
      "[ 96.04061038  91.97889761  96.69245998  25.97067974]\n",
      "0\n",
      "[ 88.08126029  91.97889761  96.69245998  24.37880972]\n",
      "1\n",
      "[ 88.31224315  91.97889761  96.69245998  24.30181544]\n",
      "1\n",
      "[ 88.99123874  91.97889761  96.69245998  24.07548357]\n",
      "1\n",
      "[ 92.14929742  91.97889761  96.69245998  23.02279735]\n",
      "1\n",
      "[ 92.93885885  91.97889761  96.69245998  22.7596102 ]\n",
      "1\n",
      "[ 93.97752723  91.97889761  96.69245998  22.41338741]\n",
      "1\n",
      "[ 96.38437683  91.97889761  96.69245998  21.61110421]\n",
      "1\n",
      "[ 99.1989914   91.97889761  96.69245998  20.67289935]\n",
      "0\n",
      "[ 93.19268279  91.97889761  96.69245998  19.47163763]\n",
      "1\n",
      "[ 93.26661207  91.97889761  96.69245998  19.44699453]\n",
      "1\n",
      "[ 93.46270077  91.97889761  96.69245998  19.38163163]\n",
      "1\n",
      "[ 94.543504    91.97889761  96.69245998  19.02136389]\n",
      "1\n",
      "[ 97.61381307  91.97889761  96.69245998  17.99792753]\n",
      "0\n",
      "[ 94.96813765  91.97889761  96.69245998  17.46879245]\n",
      "1\n",
      "[ 97.37283303  91.97889761  96.69245998  16.66722732]\n",
      "0\n",
      "[ 95.08838797  91.97889761  96.69245998  16.21033831]\n",
      "0\n",
      "[ 87.94676069  91.97889761  96.69245998  14.78201285]\n",
      "1\n",
      "[ 94.92306057  91.97889761  96.69245998  12.45657956]\n",
      "1\n",
      "[ 96.07436985  91.97889761  96.69245998  12.0728098 ]\n",
      "0\n",
      "[ 91.67849111  91.97889761  96.69245998  11.19363405]\n",
      "1\n",
      "[ 92.62680917  91.97889761  96.69245998  10.87752803]\n",
      "1\n",
      "[ 96.33762376  91.97889761  96.69245998   9.64058983]\n",
      "0\n",
      "[ 88.29550482  91.97889761  96.69245998   8.03216604]\n",
      "1\n",
      "[ 90.05567316  91.97889761  96.69245998   7.44544326]\n",
      "1\n",
      "[ 92.69952876  91.97889761  96.69245998   6.56415806]\n",
      "1\n",
      "[ 99.29818075  91.97889761  96.69245998   4.3646074 ]\n",
      "0\n",
      "[ 96.05690485  91.97889761  96.69245998   3.71635222]\n",
      "0\n",
      "[ 93.12113816  91.97889761  96.69245998   3.12919888]\n",
      "1\n",
      "[ 95.71977288  91.97889761  96.69245998   2.26298731]\n",
      "0\n",
      "[ 90.10457805  91.97889761  96.69245998   1.13994835]\n",
      "1\n",
      "[ 93.52442309  53.41605004  58.59615364  27.08116752]\n",
      "0\n",
      "[ 88.42125914  53.41605004  58.59615364  26.06053473]\n",
      "0\n",
      "[ 86.95267689  53.41605004  58.59615364  25.76681828]\n",
      "0\n",
      "[ 83.04012395  53.41605004  58.59615364  24.9843077 ]\n",
      "0\n",
      "[ 72.53314622  53.41605004  58.59615364  22.88291215]\n",
      "0\n",
      "[ 67.82258733  53.41605004  58.59615364  21.94080037]\n",
      "0\n",
      "[ 65.74030523  53.41605004  58.59615364  21.52434395]\n",
      "0\n",
      "[ 54.41904871  53.41605004  58.59615364  19.26009265]\n",
      "1\n",
      "[ 55.02276642  53.41605004  58.59615364  19.05885341]\n",
      "1\n",
      "[ 56.26929768  53.41605004  58.59615364  18.64334299]\n",
      "1\n",
      "[ 57.55086284  53.41605004  58.59615364  18.21615461]\n",
      "1\n",
      "[ 62.55366854  53.41605004  58.59615364  16.54855271]\n",
      "1\n",
      "[ 70.24300053  53.41605004  58.59615364  13.98544204]\n",
      "0\n",
      "[ 64.85471453  53.41605004  58.59615364  12.90778484]\n",
      "1\n",
      "[ 65.4774674   53.41605004  58.59615364  12.70020055]\n",
      "1\n",
      "[ 69.77683588  53.41605004  58.59615364  11.26707772]\n",
      "0\n",
      "[ 68.09459619  53.41605004  58.59615364  10.93062978]\n",
      "0\n",
      "[ 42.54497576  53.41605004  58.59615364   5.8207057 ]\n",
      "1\n",
      "[ 45.50553966  53.41605004  58.59615364   4.83385106]\n",
      "1\n",
      "[ 46.40945704  53.41605004  58.59615364   4.53254527]\n",
      "1\n",
      "[ 47.63297515  53.41605004  58.59615364   4.1247059 ]\n",
      "1\n",
      "[ 48.0825549   53.41605004  58.59615364   3.97484598]\n",
      "1\n",
      "[ 49.70217874  53.41605004  58.59615364   3.43497137]\n",
      "1\n",
      "[ 52.40286312  53.41605004  58.59615364   2.53474324]\n",
      "1\n",
      "[ 53.29199077  53.41605004  58.59615364   2.23836736]\n",
      "1\n",
      "[ 55.29753648  53.41605004  58.59615364   1.56985212]\n",
      "1\n",
      "[ 59.59296643  53.41605004  58.59615364   0.13804214]\n",
      "0\n",
      "DEAD!\n"
     ]
    }
   ],
   "source": [
    "# Play the game\n",
    "game = Game()\n",
    "while True:\n",
    "    print(game.get_state())\n",
    "    action = int(input())\n",
    "    game.time_step(action)\n",
    "    if not game.alive:\n",
    "        print(\"DEAD!\")\n",
    "        break"
   ]
  },
  {
   "cell_type": "code",
   "execution_count": 47,
   "metadata": {
    "collapsed": true
   },
   "outputs": [],
   "source": [
    "def make_model(inputs, outputs):\n",
    "    input_layer = keras.layers.Input(shape=(inputs,))\n",
    "    layer1 = keras.layers.Dense(inputs + outputs, activation='tanh')\n",
    "    layer2 = keras.layers.Dense(outputs, activation='tanh')\n",
    "    scale_layer = keras.layers.Dense(outputs, activation='linear')\n",
    "    model = keras.Model(inputs=input_layer, outputs=scale_layer(layer2(layer1(input_layer))))\n",
    "    #model.compile('sgd', loss='mean_squared_error')\n",
    "    model.compile('RMSProp', loss='mean_squared_error')\n",
    "    return model\n",
    "\n",
    "class Learner(object):\n",
    "    def __init__(self, state_scale, reward_scale, num_actions):\n",
    "        self.move_score_model = make_model(len(state_scale) + num_actions, 1)\n",
    "        self.state_scale = state_scale\n",
    "        self.reward_scale = reward_scale\n",
    "        self.action_vec = np.eye(num_actions)\n",
    "        self.last_move_learn_boost = 10\n",
    "        self.self_trust = 0.0\n",
    "        self.trust_rate = 1e-5\n",
    "        \n",
    "    def _move_and_score(self, state):\n",
    "        best = None\n",
    "        best_score = None\n",
    "        for act, actvec in enumerate(self.action_vec):\n",
    "            score = self.move_score_model.predict(np.concatenate([state / self.state_scale, actvec])[np.newaxis, :])[0, 0]\n",
    "            if not np.isfinite(score):\n",
    "                raise AssertionError(\"predict({}, {}) = {}\".format(state, actvec, score))\n",
    "            if best_score is None or score > best_score:\n",
    "                best_score = score\n",
    "                best = act\n",
    "        return best, best_score\n",
    "    \n",
    "    def learn(self, state, action, reward, next_state, value_proxy):\n",
    "        #print(\"learn({}, {}, {}, {}, {})\".format(state, action, reward, next_state, value_proxy))\n",
    "        if not np.all(np.isfinite(state)) or not np.isfinite(reward) or not np.all(np.isfinite(next_state)):\n",
    "            raise ValueError(\"NaNs in input: {}, {}, {}, {}\".format(state, action, reward, next_state))\n",
    "        next_move, next_score = self._move_and_score(next_state)\n",
    "        from_next = reward / self.reward_scale + next_score\n",
    "        prediction = self.move_score_model.predict(np.concatenate([state / self.state_scale, self.action_vec[action]])[np.newaxis, :])[0, 0]\n",
    "        to_learn = self.self_trust * from_next + (1 - self.self_trust) * (reward + value_proxy) / self.reward_scale\n",
    "        #print(\"old prediction: {}, score from next: {}, reward to learn: {}\".\\\n",
    "        #      format(prediction, from_next, to_learn))\n",
    "        self.move_score_model.train_on_batch(np.concatenate([state / self.state_scale, self.action_vec[action]])[np.newaxis, :],\n",
    "                                             np.array([[to_learn]]))\n",
    "        self.self_trust += self.trust_rate * (1 - self.self_trust)\n",
    "    \n",
    "    def learn_last(self, state, action, reward):\n",
    "        for i in range(self.last_move_learn_boost):\n",
    "            self.move_score_model.train_on_batch(np.concatenate([state / self.state_scale, self.action_vec[action]])[np.newaxis, :],\n",
    "                                                 np.array([[reward / self.reward_scale]]))\n",
    "    \n",
    "    def move(self, state):\n",
    "        move, score = self._move_and_score(state)\n",
    "        return move"
   ]
  },
  {
   "cell_type": "code",
   "execution_count": 48,
   "metadata": {
    "collapsed": true
   },
   "outputs": [],
   "source": [
    "# Play the game\n",
    "def train_play(learner):\n",
    "    game = Game()\n",
    "    history = []\n",
    "    total_reward = 0.0\n",
    "    while True:\n",
    "        state = game.get_state()\n",
    "        #print(state)\n",
    "        action = learner.move(state)\n",
    "        #print(action)\n",
    "        reward = game.time_step(action)\n",
    "        history.append((state, action, reward))\n",
    "        total_reward += reward\n",
    "        if not game.alive:\n",
    "            #print(\"DEAD! Survived for {}\".format(total_reward))\n",
    "            learner.learn_last(state, action, reward)\n",
    "            return history, total_reward\n",
    "        learner.learn(state, action, reward, game.get_state(), game.get_state()[3])"
   ]
  },
  {
   "cell_type": "code",
   "execution_count": 49,
   "metadata": {
    "collapsed": true
   },
   "outputs": [],
   "source": [
    "game = Game()\n",
    "learner = Learner(np.array([game.maxheight, game.maxheight, game.maxheight, game.mean_time_to_hole]),\n",
    "                  game.mean_time_to_hole, 2)"
   ]
  },
  {
   "cell_type": "code",
   "execution_count": 50,
   "metadata": {},
   "outputs": [
    {
     "data": {
      "text/plain": [
       "36.91217246743511"
      ]
     },
     "execution_count": 50,
     "metadata": {},
     "output_type": "execute_result"
    }
   ],
   "source": [
    "train_play(learner)[1]"
   ]
  },
  {
   "cell_type": "code",
   "execution_count": 51,
   "metadata": {
    "collapsed": true
   },
   "outputs": [],
   "source": [
    "history = []"
   ]
  },
  {
   "cell_type": "code",
   "execution_count": 62,
   "metadata": {},
   "outputs": [
    {
     "data": {
      "text/plain": [
       "[<matplotlib.lines.Line2D at 0x7ff668d2b048>]"
      ]
     },
     "execution_count": 62,
     "metadata": {},
     "output_type": "execute_result"
    },
    {
     "data": {
      "image/png": "[encoded data removed]",
      "text/plain": [
       "<matplotlib.figure.Figure at 0x7ff6694176d8>"
      ]
     },
     "metadata": {},
     "output_type": "display_data"
    }
   ],
   "source": [
    "for i in range(10000):\n",
    "    history.append(train_play(learner)[1])\n",
    "plt.plot(np.cumsum(history))"
   ]
  },
  {
   "cell_type": "code",
   "execution_count": 53,
   "metadata": {},
   "outputs": [
    {
     "data": {
      "text/plain": [
       "array([[37.831364]], dtype=float32)"
      ]
     },
     "execution_count": 53,
     "metadata": {},
     "output_type": "execute_result"
    }
   ],
   "source": [
    "learner.move_score_model.predict(np.array([10, 24, 43, 20, 1, 0])[np.newaxis, :]) * learner.reward_scale"
   ]
  },
  {
   "cell_type": "code",
   "execution_count": 64,
   "metadata": {},
   "outputs": [
    {
     "data": {
      "image/png": "[encoded data removed]",
      "text/plain": [
       "<matplotlib.figure.Figure at 0x7ff68003b160>"
      ]
     },
     "metadata": {},
     "output_type": "display_data"
    }
   ],
   "source": [
    "foo = np.zeros((100, 6))\n",
    "foo[:, 4] = 1\n",
    "for i in range(foo.shape[0]):\n",
    "    foo[i, :4] = Game().get_state()\n",
    "fooy = learner.move_score_model.predict(foo / np.concatenate([learner.state_scale, np.ones(2)])).reshape(-1) * learner.reward_scale\n",
    "plt.plot(foo[:, 3], fooy, '.')\n",
    "plt.grid()"
   ]
  },
  {
   "cell_type": "code",
   "execution_count": 173,
   "metadata": {},
   "outputs": [
    {
     "data": {
      "text/plain": [
       "[array([[ 0.56055343, -0.2953229 , -0.57221574,  0.00282226, -0.35351723,\n",
       "          0.04219814,  0.241941  ],\n",
       "        [ 0.46892512,  0.05646466, -0.3568987 ,  0.01987873,  0.01609045,\n",
       "          0.02460651,  0.37089428],\n",
       "        [-0.10343911, -0.12443767,  0.31104186,  0.60404915, -0.11452886,\n",
       "         -0.0784584 , -0.41399062],\n",
       "        [ 0.09086863,  0.89367056, -0.6254406 , -0.652426  , -0.03195759,\n",
       "         -0.33034462,  0.2409304 ],\n",
       "        [-0.9263537 , -0.54608697,  0.9270808 ,  0.14529435,  0.29492468,\n",
       "         -0.21144457, -0.7584317 ],\n",
       "        [ 0.7691986 , -0.3643534 ,  0.36017317, -0.28996354, -0.2515313 ,\n",
       "          0.42179015,  0.3386293 ]], dtype=float32),\n",
       " array([ 0.03142659,  0.01304426,  0.22870097,  0.46240875,  0.03956511,\n",
       "         0.01948222, -0.14937036], dtype=float32),\n",
       " array([[-0.5176777 ],\n",
       "        [-0.54054147],\n",
       "        [ 0.29364556],\n",
       "        [ 0.09942868],\n",
       "        [-0.65357757],\n",
       "        [ 1.4822562 ],\n",
       "        [-0.6581498 ]], dtype=float32),\n",
       " array([0.11680523], dtype=float32),\n",
       " array([[-0.9612477]], dtype=float32),\n",
       " array([0.62356853], dtype=float32)]"
      ]
     },
     "execution_count": 173,
     "metadata": {},
     "output_type": "execute_result"
    }
   ],
   "source": [
    "learner.move_score_model.get_weights()"
   ]
  },
  {
   "cell_type": "markdown",
   "metadata": {
    "collapsed": true
   },
   "source": [
    "#### Test the ability of the neural network to learn..."
   ]
  },
  {
   "cell_type": "code",
   "execution_count": 34,
   "metadata": {
    "collapsed": true
   },
   "outputs": [],
   "source": [
    "model = make_model(6, 1)"
   ]
  },
  {
   "cell_type": "code",
   "execution_count": 41,
   "metadata": {
    "collapsed": true
   },
   "outputs": [],
   "source": [
    "data = np.random.rand(6000).reshape((1000, 6)) * 3"
   ]
  },
  {
   "cell_type": "code",
   "execution_count": 42,
   "metadata": {
    "collapsed": true
   },
   "outputs": [],
   "source": [
    "for row in data:\n",
    "    model.train_on_batch(row[np.newaxis, :], row[[-1]])"
   ]
  },
  {
   "cell_type": "code",
   "execution_count": 43,
   "metadata": {},
   "outputs": [
    {
     "data": {
      "image/png": "[encoded data removed]",
      "text/plain": [
       "<matplotlib.figure.Figure at 0x7ff66b6db8d0>"
      ]
     },
     "metadata": {},
     "output_type": "display_data"
    }
   ],
   "source": [
    "foo = np.random.rand(600).reshape((100, 6)) * 3\n",
    "fooy = model.predict(foo)\n",
    "plt.plot(foo[:, -1], fooy.reshape(-1), '.')\n",
    "plt.grid(True)"
   ]
  },
  {
   "cell_type": "code",
   "execution_count": null,
   "metadata": {
    "collapsed": true
   },
   "outputs": [],
   "source": []
  }
 ],
 "metadata": {
  "kernelspec": {
   "display_name": "Python 3",
   "language": "python3.5",
   "name": "python3"
  },
  "language_info": {
   "codemirror_mode": {
    "name": "ipython",
    "version": 3
   },
   "file_extension": ".py",
   "mimetype": "text/x-python",
   "name": "python",
   "nbconvert_exporter": "python",
   "pygments_lexer": "ipython3",
   "version": "3.5.4"
  }
 },
 "nbformat": 4,
 "nbformat_minor": 2
}
