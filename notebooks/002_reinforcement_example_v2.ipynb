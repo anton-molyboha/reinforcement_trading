{
 "cells": [
  {
   "cell_type": "code",
   "execution_count": null,
   "metadata": {
    "collapsed": true
   },
   "outputs": [],
   "source": [
    "import os\n",
    "import os.path\n",
    "import sys\n",
    "import math"
   ]
  },
  {
   "cell_type": "code",
   "execution_count": null,
   "metadata": {
    "collapsed": true
   },
   "outputs": [],
   "source": [
    "import numpy as np\n",
    "import pandas as pd\n",
    "%matplotlib inline\n",
    "import matplotlib.pyplot as plt"
   ]
  },
  {
   "cell_type": "code",
   "execution_count": null,
   "metadata": {},
   "outputs": [],
   "source": [
    "import keras\n",
    "from keras import layers"
   ]
  },
  {
   "cell_type": "code",
   "execution_count": null,
   "metadata": {
    "collapsed": true
   },
   "outputs": [],
   "source": [
    "sys.path.append(os.path.abspath('../dependencies/BristolStockExchange'))\n",
    "sys.path.append(os.path.abspath('../src'))"
   ]
  },
  {
   "cell_type": "markdown",
   "metadata": {},
   "source": [
    "# System setup"
   ]
  },
  {
   "cell_type": "markdown",
   "metadata": {},
   "source": [
    "Model characteristics:\n",
    "* Continuous inputs, discrete actions\n",
    "* Discrete events in continuous time"
   ]
  },
  {
   "cell_type": "markdown",
   "metadata": {},
   "source": [
    "### Flappy Bird"
   ]
  },
  {
   "cell_type": "markdown",
   "metadata": {},
   "source": [
    "* State: (hight, lower border of the hole, upper border of the hole, time to hole)\n",
    "* Actions: {fly up, keep falling}\n",
    "* Reward: time survived"
   ]
  },
  {
   "cell_type": "code",
   "execution_count": null,
   "metadata": {
    "collapsed": true
   },
   "outputs": [],
   "source": [
    "from reinforcement_example.game import Game"
   ]
  },
  {
   "cell_type": "code",
   "execution_count": null,
   "metadata": {},
   "outputs": [],
   "source": [
    "# Play the game\n",
    "game = Game()\n",
    "while True:\n",
    "    print(game.get_state())\n",
    "    action = int(input())\n",
    "    game.time_step(action)\n",
    "    if not game.alive:\n",
    "        print(\"DEAD!\")\n",
    "        break"
   ]
  },
  {
   "cell_type": "code",
   "execution_count": null,
   "metadata": {
    "collapsed": true
   },
   "outputs": [],
   "source": [
    "from reinforcement_example.learner import make_model"
   ]
  },
  {
   "cell_type": "code",
   "execution_count": null,
   "metadata": {
    "collapsed": true
   },
   "outputs": [],
   "source": [
    "from reinforcement_example.learner import AbstractLearner"
   ]
  },
  {
   "cell_type": "code",
   "execution_count": null,
   "metadata": {
    "collapsed": true
   },
   "outputs": [],
   "source": [
    "class ScaledModel(object):\n",
    "    def __init__(self, model, xscale=None, yscale=None):\n",
    "        self.model = model\n",
    "        self.xscale = xscale\n",
    "        self.yscale = yscale\n",
    "    \n",
    "    def fit(self, X, Y):\n",
    "        rX = X / self.xscale[np.newaxis, :] if self.xscale is not None else X\n",
    "        rY = Y / self.yscale if self.yscale is not None else Y\n",
    "        self.model.fit(rX, rY)\n",
    "        \n",
    "    def predict(self, X):\n",
    "        rX = X / self.xscale[np.newaxis, :] if self.xscale is not None else X\n",
    "        res = self.model.predict(rX)\n",
    "        return res * self.yscale if self.yscale is not None else res"
   ]
  },
  {
   "cell_type": "code",
   "execution_count": null,
   "metadata": {
    "collapsed": true
   },
   "outputs": [],
   "source": [
    "def logodds_to_probs(odds):\n",
    "    scaled = np.asarray(odds) - np.max(odds)\n",
    "    transformed = np.exp(scaled)\n",
    "    return transformed / np.sum(transformed)"
   ]
  },
  {
   "cell_type": "code",
   "execution_count": null,
   "metadata": {
    "collapsed": true
   },
   "outputs": [],
   "source": [
    "class ValueToPolicy(object):\n",
    "    def __init__(self, value_model, scale=1.0):\n",
    "        self.value_model = value_model\n",
    "        self.num_actions = len(value_model)\n",
    "        self.scale = scale\n",
    "        \n",
    "    def predict(self, states):\n",
    "        res = np.array([model.predict(states)[:, 0] for model in self.value_model]) / self.scale\n",
    "        # res has axes: action, batch\n",
    "        # Result must have axes: batch, action\n",
    "        return res.T\n",
    "    \n",
    "    def set_scale(self, scale):\n",
    "        self.scale = scale"
   ]
  },
  {
   "cell_type": "code",
   "execution_count": null,
   "metadata": {
    "collapsed": true
   },
   "outputs": [],
   "source": [
    "# class SoftPolicy(object):\n",
    "#     def __init__(self, base, prob_random):\n",
    "#         self.base = base\n",
    "#         self.p = prob_random\n",
    "        \n",
    "#     def predict(self, states):\n",
    "#         res = self.base.predict(states)\n",
    "#         num_actions = res.shape[1]\n",
    "#         uniform = np.ones(num_actions) / num_actions\n",
    "#         res = self.p * uniform + (1 - self.p) * res\n",
    "#         return res"
   ]
  },
  {
   "cell_type": "code",
   "execution_count": null,
   "metadata": {
    "collapsed": true
   },
   "outputs": [],
   "source": [
    "def random_round(a):\n",
    "    shape = a.shape if hasattr(a, 'shape') else (1,)\n",
    "    flr = np.floor(a).astype(np.int64, copy=False)\n",
    "    return flr + (np.random.rand(*shape) < a - flr)"
   ]
  },
  {
   "cell_type": "code",
   "execution_count": null,
   "metadata": {
    "collapsed": true
   },
   "outputs": [],
   "source": [
    "def weights_to_inds(weights, amplification=10):\n",
    "    copy_counts = random_round(weights * amplification)\n",
    "    res = np.empty(np.sum(copy_counts), dtype=np.int64)\n",
    "    ptr = 0\n",
    "    for i, cnt in enumerate(copy_counts):\n",
    "        res[ptr:ptr+cnt] = i\n",
    "        ptr += cnt\n",
    "    return res"
   ]
  },
  {
   "cell_type": "code",
   "execution_count": null,
   "metadata": {},
   "outputs": [],
   "source": [
    "class MCLearner(AbstractLearner):\n",
    "    def __init__(self, state_dim, num_actions, reward_scale=1.0):\n",
    "        self.state_dim = state_dim\n",
    "        self.num_actions = num_actions\n",
    "        self.reward_scale = reward_scale\n",
    "        self.value_model = [ScaledModel(make_model(state_dim, 1), yscale=reward_scale) for i in range(num_actions)]\n",
    "        #self.policy = make_model(state_dim, num_actions)\n",
    "        self.policy = ValueToPolicy(self.value_model, scale=self.reward_scale)\n",
    "        self.histories = []\n",
    "        self.history = []\n",
    "    \n",
    "    def move(self, state):\n",
    "        probs = logodds_to_probs(self.policy.predict(state[np.newaxis, :])[0])\n",
    "        choice = np.searchsorted(np.cumsum(probs), np.random.rand())\n",
    "        self.last_action_prob = probs[choice]\n",
    "        return choice\n",
    "    \n",
    "    def learn(self, state, action, reward, next_state, value_proxy):\n",
    "        self.history.append((np.array(state), action, reward, self.last_action_prob))\n",
    "        \n",
    "    def learn_last(self, state, action, reward):\n",
    "        self.history.append((np.array(state), action, reward, self.last_action_prob))\n",
    "        self.histories.append(self.history)\n",
    "        self.history = []\n",
    "        self._update_value_model()\n",
    "        \n",
    "    def _update_value_model(self):\n",
    "        trainX = [[] for action in range(self.num_actions)]\n",
    "        trainY = [[] for action in range(self.num_actions)]\n",
    "        trainW = [[] for action in range(self.num_actions)]\n",
    "        for history in self.histories:\n",
    "            cumreward = 0.0\n",
    "            cumprob = 1.0\n",
    "            for state, action, reward, action_prob in history[::-1]:\n",
    "                cumreward += reward\n",
    "                probs = logodds_to_probs(self.policy.predict(state[np.newaxis, :])[0])\n",
    "                trainX[action].append(state)\n",
    "                trainY[action].append(cumreward)\n",
    "                trainW[action].append(cumprob)\n",
    "                cumprob *= probs[action] / action_prob\n",
    "        for action in range(self.num_actions):\n",
    "            X = np.array(trainX[action])\n",
    "            Y = np.array(trainY[action])\n",
    "            W = np.array(trainW[action])\n",
    "            ### TODO: weights_to_inds\n",
    "            inds = weights_to_inds(W)\n",
    "            #old = self.value_model[action].predict(X)[:, 0]\n",
    "            #print((X.shape, Y.shape, W.shape, old.shape))\n",
    "            #train_target = old * (1 - W) + Y * W\n",
    "            #self.value_model[action].fit(X, train_target)\n",
    "            self.value_model[action].fit(X[inds], Y[inds])\n",
    "        self.policy.set_scale(self.reward_scale / len(self.histories))"
   ]
  },
  {
   "cell_type": "code",
   "execution_count": null,
   "metadata": {
    "collapsed": true
   },
   "outputs": [],
   "source": [
    "from reinforcement_example.learner import train_play"
   ]
  },
  {
   "cell_type": "code",
   "execution_count": null,
   "metadata": {
    "collapsed": true
   },
   "outputs": [],
   "source": [
    "game = Game()\n",
    "learner = MCLearner(4, 2, reward_scale=game.mean_time_to_hole)"
   ]
  },
  {
   "cell_type": "code",
   "execution_count": null,
   "metadata": {},
   "outputs": [],
   "source": [
    "train_play(Game(), learner)[1]"
   ]
  },
  {
   "cell_type": "code",
   "execution_count": null,
   "metadata": {
    "collapsed": true
   },
   "outputs": [],
   "source": [
    "history = []"
   ]
  },
  {
   "cell_type": "code",
   "execution_count": null,
   "metadata": {},
   "outputs": [],
   "source": [
    "for i in range(10000):\n",
    "    history.append(train_play(Game(), learner)[1])\n",
    "plt.plot(np.cumsum(history))"
   ]
  },
  {
   "cell_type": "code",
   "execution_count": null,
   "metadata": {},
   "outputs": [],
   "source": [
    "for i in range(30):\n",
    "    history.append(train_play(Game(), learner)[1])\n",
    "plt.plot(np.cumsum(history))"
   ]
  },
  {
   "cell_type": "code",
   "execution_count": null,
   "metadata": {},
   "outputs": [],
   "source": [
    "np.mean(history)"
   ]
  },
  {
   "cell_type": "code",
   "execution_count": null,
   "metadata": {
    "collapsed": true
   },
   "outputs": [],
   "source": [
    "import pickle\n",
    "with open('002_reinforcement_example_v2_learner.pickle', 'wb') as f:\n",
    "    pickle.dump({\n",
    "        'histories': learner.histories,\n",
    "        'value_model': [\n",
    "            {\n",
    "                'config': model.get_config(),\n",
    "                'weights': model.get_weights()\n",
    "            }\n",
    "            for model in learner.value_model\n",
    "        ]\n",
    "    }, f)"
   ]
  },
  {
   "cell_type": "code",
   "execution_count": null,
   "metadata": {},
   "outputs": [],
   "source": [
    "foo = np.zeros((100, 4))\n",
    "for i in range(foo.shape[0]):\n",
    "    foo[i, :4] = Game().get_state()\n",
    "fooy0 = learner.value_model[0].predict(foo).reshape(-1)\n",
    "fooy1 = learner.value_model[1].predict(foo).reshape(-1)\n",
    "plt.plot(foo[:, 3], fooy0, '.')\n",
    "plt.plot(foo[:, 3], fooy1, '.')\n",
    "plt.grid()"
   ]
  },
  {
   "cell_type": "code",
   "execution_count": null,
   "metadata": {},
   "outputs": [],
   "source": [
    "foo_history = history\n",
    "\n",
    "try:\n",
    "        trainX = [[] for action in range(learner.num_actions)]\n",
    "        trainY = [[] for action in range(learner.num_actions)]\n",
    "        trainW = [[] for action in range(learner.num_actions)]\n",
    "        for history in learner.histories:\n",
    "            cumreward = 0.0\n",
    "            cumprob = 1.0\n",
    "            for state, action, reward, action_prob in history[::-1]:\n",
    "                cumreward += reward\n",
    "                probs = logodds_to_probs(learner.policy.predict(state[np.newaxis, :])[0])\n",
    "                trainX[action].append(state)\n",
    "                trainY[action].append(cumreward)\n",
    "                trainW[action].append(cumprob)\n",
    "                cumprob *= probs[action] / action_prob\n",
    "        for action in range(learner.num_actions):\n",
    "            X = np.array(trainX[action])\n",
    "            Y = np.array(trainY[action])\n",
    "            W = np.array(trainW[action])\n",
    "            inds = weights_to_inds(W)\n",
    "            plt.plot(X[:, 3], Y, '.')\n",
    "        for action in range(learner.num_actions):\n",
    "            X = np.array(trainX[action])\n",
    "            Y = np.array(trainY[action])\n",
    "            W = np.array(trainW[action])\n",
    "            inds = weights_to_inds(W)\n",
    "            plt.figure()\n",
    "            plt.plot(learner.value_model[action].predict(X), Y, '.')\n",
    "            #plt.title('Prediction vs response, RMS = {}'.format(learner.value_model[action].evaluate(X[inds], Y[inds])))\n",
    "            plt.grid(True)\n",
    "finally:\n",
    "    history = foo_history"
   ]
  },
  {
   "cell_type": "code",
   "execution_count": null,
   "metadata": {},
   "outputs": [],
   "source": [
    "learner.policy.scale"
   ]
  },
  {
   "cell_type": "code",
   "execution_count": null,
   "metadata": {},
   "outputs": [],
   "source": [
    "[np.mean(W) for W in trainW]"
   ]
  },
  {
   "cell_type": "markdown",
   "metadata": {
    "collapsed": true
   },
   "source": [
    "#### Test the ability of the neural network to learn..."
   ]
  },
  {
   "cell_type": "code",
   "execution_count": null,
   "metadata": {
    "collapsed": true
   },
   "outputs": [],
   "source": [
    "model = make_model(6, 1)"
   ]
  },
  {
   "cell_type": "code",
   "execution_count": null,
   "metadata": {
    "collapsed": true
   },
   "outputs": [],
   "source": [
    "data = np.random.rand(6000).reshape((1000, 6)) * 3"
   ]
  },
  {
   "cell_type": "code",
   "execution_count": null,
   "metadata": {
    "collapsed": true
   },
   "outputs": [],
   "source": [
    "for row in data:\n",
    "    model.train_on_batch(row[np.newaxis, :], row[[-1]])"
   ]
  },
  {
   "cell_type": "code",
   "execution_count": null,
   "metadata": {},
   "outputs": [],
   "source": [
    "foo = np.random.rand(600).reshape((100, 6)) * 3\n",
    "fooy = model.predict(foo)\n",
    "plt.plot(foo[:, -1], fooy.reshape(-1), '.')\n",
    "plt.grid(True)"
   ]
  },
  {
   "cell_type": "code",
   "execution_count": null,
   "metadata": {
    "collapsed": true
   },
   "outputs": [],
   "source": []
  }
 ],
 "metadata": {
  "kernelspec": {
   "display_name": "Python 3",
   "language": "python3.5",
   "name": "python3"
  },
  "language_info": {
   "codemirror_mode": {
    "name": "ipython",
    "version": 3
   },
   "file_extension": ".py",
   "mimetype": "text/x-python",
   "name": "python",
   "nbconvert_exporter": "python",
   "pygments_lexer": "ipython3",
   "version": "3.5.4"
  }
 },
 "nbformat": 4,
 "nbformat_minor": 2
}
